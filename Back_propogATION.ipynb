{
  "nbformat": 4,
  "nbformat_minor": 0,
  "metadata": {
    "colab": {
      "name": "Back propogATION.ipynb",
      "version": "0.3.2",
      "provenance": []
    },
    "kernelspec": {
      "name": "python3",
      "display_name": "Python 3"
    }
  },
  "cells": [
    {
      "cell_type": "code",
      "metadata": {
        "id": "Y_r8HhBsMU-2",
        "colab_type": "code",
        "colab": {}
      },
      "source": [
        "import numpy as numpy\n",
        "\n",
        "#sigmoid function\n",
        "def nonlinear(x, derivative=False):\n",
        "\tif (derivative == True):\n",
        "\t\treturn x*(1-x)\n",
        "\telse:\n",
        "\t\treturn 1/(1+numpy.exp(-x))\n"
      ],
      "execution_count": 0,
      "outputs": []
    },
    {
      "cell_type": "code",
      "metadata": {
        "id": "Y7QYvpRKMb1z",
        "colab_type": "code",
        "colab": {}
      },
      "source": [
        "X = numpy.array([\n",
        "[0,0,1],\n",
        "[0,1,1],\n",
        "[1,0,1],\n",
        "[1,1,1]\n",
        "])\n",
        "\n",
        "# output dataset\n",
        "y = numpy.array([[0,0,1,1]]).T\n"
      ],
      "execution_count": 0,
      "outputs": []
    },
    {
      "cell_type": "code",
      "metadata": {
        "id": "MEik0jHlzBev",
        "colab_type": "code",
        "colab": {}
      },
      "source": [
        ""
      ],
      "execution_count": 0,
      "outputs": []
    },
    {
      "cell_type": "code",
      "metadata": {
        "id": "VyDZg-jyMmWz",
        "colab_type": "code",
        "colab": {}
      },
      "source": [
        "numpy.random.seed(1)\n",
        "\n",
        "# initialize weights randomly with mean 0\n",
        "synapse0 = 2 * numpy.random.random((3,1)) - 1\n",
        "learning_rate=0.1\n",
        "b=2 * numpy.random.random((1,1)) - 1"
      ],
      "execution_count": 0,
      "outputs": []
    },
    {
      "cell_type": "code",
      "metadata": {
        "id": "-Lk5Kp_VM1kC",
        "colab_type": "code",
        "outputId": "3fe578cd-c05e-40b4-c3f3-393beea6955c",
        "colab": {
          "base_uri": "https://localhost:8080/",
          "height": 102
        }
      },
      "source": [
        "\n",
        "for iter in range(100000):\n",
        "\t# forward propogation\n",
        "\tlayer0 = X\n",
        "\tlayer1 = nonlinear(numpy.dot(layer0, synapse0)+b)\n",
        "\n",
        "\t# How much did it miss by\n",
        "\tlayer1Err = y - layer1\n",
        "\n",
        "\t# how much we missed * slope of sigmoid at layer1 values\n",
        "\tlayer1Delta = layer1Err * nonlinear(layer1, True)*learning_rate\n",
        "\n",
        "\tb=b+layer1Delta\n",
        "\tsynapse0 += numpy.dot(layer0.T, layer1Delta)\n",
        "\n",
        "print (\"Output after training\")\n",
        "print (layer1)"
      ],
      "execution_count": 4,
      "outputs": [
        {
          "output_type": "stream",
          "text": [
            "Output after training\n",
            "[[0.00584215]\n",
            " [0.00545534]\n",
            " [0.995385  ]\n",
            " [0.99495052]]\n"
          ],
          "name": "stdout"
        }
      ]
    },
    {
      "cell_type": "code",
      "metadata": {
        "id": "JWSTWNLuNQa0",
        "colab_type": "code",
        "colab": {}
      },
      "source": [
        ""
      ],
      "execution_count": 0,
      "outputs": []
    },
    {
      "cell_type": "code",
      "metadata": {
        "id": "DoaBui_JOeUw",
        "colab_type": "code",
        "colab": {}
      },
      "source": [
        ""
      ],
      "execution_count": 0,
      "outputs": []
    }
  ]
}