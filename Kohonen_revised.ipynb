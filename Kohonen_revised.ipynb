{
  "nbformat": 4,
  "nbformat_minor": 0,
  "metadata": {
    "colab": {
      "name": "Kohonen_revised.ipynb",
      "provenance": []
    },
    "kernelspec": {
      "name": "python3",
      "display_name": "Python 3"
    }
  },
  "cells": [
    {
      "cell_type": "code",
      "metadata": {
        "id": "bOeVfGfe3Nas",
        "colab_type": "code",
        "colab": {}
      },
      "source": [
        "import numpy as np\n",
        "import pandas as pd"
      ],
      "execution_count": 0,
      "outputs": []
    },
    {
      "cell_type": "code",
      "metadata": {
        "id": "-6z4jlRy3uRq",
        "colab_type": "code",
        "colab": {
          "base_uri": "https://localhost:8080/",
          "height": 85
        },
        "outputId": "031e0348-9d0d-4eed-eb9e-6eb002dd1379"
      },
      "source": [
        "X=np.array([[1,1,1,0],[0,1,1,1],[1,1,0,1],[1,1,0,0]])\n",
        "X"
      ],
      "execution_count": 118,
      "outputs": [
        {
          "output_type": "execute_result",
          "data": {
            "text/plain": [
              "array([[1, 1, 1, 0],\n",
              "       [0, 1, 1, 1],\n",
              "       [1, 1, 0, 1],\n",
              "       [1, 1, 0, 0]])"
            ]
          },
          "metadata": {
            "tags": []
          },
          "execution_count": 118
        }
      ]
    },
    {
      "cell_type": "code",
      "metadata": {
        "id": "602zAJSN3xX_",
        "colab_type": "code",
        "colab": {
          "base_uri": "https://localhost:8080/",
          "height": 51
        },
        "outputId": "c0e53a41-9560-424e-fb17-b2c7c0f575f3"
      },
      "source": [
        "M = len(X)     # number of x vectors\n",
        "N = len(X[0])\n",
        "print(M)\n",
        "print(N)"
      ],
      "execution_count": 119,
      "outputs": [
        {
          "output_type": "stream",
          "text": [
            "4\n",
            "4\n"
          ],
          "name": "stdout"
        }
      ]
    },
    {
      "cell_type": "code",
      "metadata": {
        "id": "DeAl65eZ4CU5",
        "colab_type": "code",
        "colab": {
          "base_uri": "https://localhost:8080/",
          "height": 85
        },
        "outputId": "54c1c488-93e9-4f13-b02c-d1ea48cbb722"
      },
      "source": [
        "W=np.array([[0.2,0.4,0.7,0.8],[0.1,0.3,0.5,0.9]])\n",
        "W=np.transpose(W)\n",
        "W"
      ],
      "execution_count": 120,
      "outputs": [
        {
          "output_type": "execute_result",
          "data": {
            "text/plain": [
              "array([[0.2, 0.1],\n",
              "       [0.4, 0.3],\n",
              "       [0.7, 0.5],\n",
              "       [0.8, 0.9]])"
            ]
          },
          "metadata": {
            "tags": []
          },
          "execution_count": 120
        }
      ]
    },
    {
      "cell_type": "code",
      "metadata": {
        "id": "axDJmtKU4O42",
        "colab_type": "code",
        "colab": {}
      },
      "source": [
        "def distance(w, x):\n",
        "    r = np.zeros(W.shape)\n",
        "    for i in range(M):\n",
        "        for j in range(len(w)):\n",
        "            r[i] = r[i] + (w[i] - x[i][j])*(w[i] - x[i][j])\n",
        "    \n",
        "    return r"
      ],
      "execution_count": 0,
      "outputs": []
    },
    {
      "cell_type": "code",
      "metadata": {
        "id": "39hZbt2O-IZu",
        "colab_type": "code",
        "colab": {
          "base_uri": "https://localhost:8080/",
          "height": 85
        },
        "outputId": "13bd31f3-80d7-4a50-e1a1-12ff0e4feb0d"
      },
      "source": [
        "distance(W,X)"
      ],
      "execution_count": 122,
      "outputs": [
        {
          "output_type": "execute_result",
          "data": {
            "text/plain": [
              "array([[1.96, 2.44],\n",
              "       [1.24, 1.56],\n",
              "       [0.76, 1.  ],\n",
              "       [1.36, 1.64]])"
            ]
          },
          "metadata": {
            "tags": []
          },
          "execution_count": 122
        }
      ]
    },
    {
      "cell_type": "code",
      "metadata": {
        "id": "I3Q0Or1t-SGr",
        "colab_type": "code",
        "colab": {}
      },
      "source": [
        "def FindClosest(W,X):\n",
        "     y=distance(W,X)\n",
        "     z=np.zeros(W.shape[0])\n",
        "\n",
        "     for i in range(M):\n",
        "         if(y[i][0]<y[i][1]):\n",
        "             z[i]=1\n",
        "         else:\n",
        "            z[i]=2\n",
        "\n",
        "     return z\n",
        "\n",
        "    "
      ],
      "execution_count": 0,
      "outputs": []
    },
    {
      "cell_type": "code",
      "metadata": {
        "id": "JIF3uk6l_bQB",
        "colab_type": "code",
        "colab": {
          "base_uri": "https://localhost:8080/",
          "height": 34
        },
        "outputId": "2a548799-1f1e-4353-807c-820a1f724c68"
      },
      "source": [
        "FindClosest(W,X)"
      ],
      "execution_count": 124,
      "outputs": [
        {
          "output_type": "execute_result",
          "data": {
            "text/plain": [
              "array([1., 1., 1., 1.])"
            ]
          },
          "metadata": {
            "tags": []
          },
          "execution_count": 124
        }
      ]
    },
    {
      "cell_type": "code",
      "metadata": {
        "id": "D13HepEL_1gr",
        "colab_type": "code",
        "colab": {
          "base_uri": "https://localhost:8080/",
          "height": 85
        },
        "outputId": "25557aee-aa4c-4077-e1a9-fb4a7910a0e5"
      },
      "source": [
        "la=0.5\n",
        "epoch=1\n",
        "for k in range(epoch):\n",
        "    z=FindClosest(W,X)\n",
        "    for i in range (M):\n",
        "        for j in range(N):\n",
        "            if(z[i]==1):\n",
        "                W[i][0] = W[i][0] + la * (X[i][j] - W[i][0])\n",
        "                \n",
        "            else:\n",
        "                W[i][1] = W[i][1] + la * (X[i][j] - W[i][1]) \n",
        "print(W)\n",
        "                "
      ],
      "execution_count": 125,
      "outputs": [
        {
          "output_type": "stream",
          "text": [
            "[[0.45    0.1    ]\n",
            " [0.9     0.3    ]\n",
            " [0.73125 0.5    ]\n",
            " [0.2375  0.9    ]]\n"
          ],
          "name": "stdout"
        }
      ]
    },
    {
      "cell_type": "code",
      "metadata": {
        "id": "AgaHpsKf5OAR",
        "colab_type": "code",
        "colab": {}
      },
      "source": [
        ""
      ],
      "execution_count": 0,
      "outputs": []
    }
  ]
}