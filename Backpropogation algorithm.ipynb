{
 "cells": [
  {
   "cell_type": "code",
   "execution_count": 20,
   "metadata": {
    "colab": {},
    "colab_type": "code",
    "id": "Y_r8HhBsMU-2"
   },
   "outputs": [],
   "source": [
    "import numpy as numpy\n",
    "\n",
    "#sigmoid function\n",
    "def nonlinear(x, derivative=False):\n",
    "    if (derivative == True):\n",
    "        return x*(1-x)\n",
    "    else:\n",
    "        return 1/(1+numpy.exp(-x))\n"
   ]
  },
  {
   "cell_type": "code",
   "execution_count": 54,
   "metadata": {
    "colab": {},
    "colab_type": "code",
    "id": "Y7QYvpRKMb1z"
   },
   "outputs": [],
   "source": [
    "X = numpy.array([\n",
    "[0,0,1],\n",
    "[0,1,1],\n",
    "[1,0,1],\n",
    "[1,1,1],\n",
    "    [1,0,0],\n",
    "    [1,1,0],\n",
    "    [0,0,0]\n",
    "])\n",
    "y = numpy.array([[1,0,0,1,1,0,0]]).T\n"
   ]
  },
  {
   "cell_type": "code",
   "execution_count": 55,
   "metadata": {
    "colab": {},
    "colab_type": "code",
    "id": "VyDZg-jyMmWz"
   },
   "outputs": [],
   "source": [
    "numpy.random.seed(1)\n",
    "synapse0 = numpy.random.random((3,1))\n",
    "learning_rate=0.5\n",
    "b=numpy.random.random((1,1))"
   ]
  },
  {
   "cell_type": "code",
   "execution_count": 57,
   "metadata": {
    "colab": {
     "base_uri": "https://localhost:8080/",
     "height": 102
    },
    "colab_type": "code",
    "id": "-Lk5Kp_VM1kC",
    "outputId": "84fe734a-ae4a-403b-b34c-b8d82ceeeda5"
   },
   "outputs": [
    {
     "name": "stdout",
     "output_type": "stream",
     "text": [
      "Output after training\n",
      "[[0.99724584]\n",
      " [0.00251367]\n",
      " [0.00318162]\n",
      " [0.99688577]\n",
      " [0.99724581]\n",
      " [0.00251371]\n",
      " [0.00290378]]\n"
     ]
    }
   ],
   "source": [
    "\n",
    "for iter in range(20000):\n",
    "    layer0 = X\n",
    "    layer1 = nonlinear(numpy.dot(layer0, synapse0)+b)\n",
    "    layer1Err = y - layer1\n",
    "    layer1Delta = layer1Err * nonlinear(layer1, True)*learning_rate\n",
    "\n",
    "    b=b+layer1Delta\n",
    "    synapse0 += numpy.dot(layer0.T, layer1Delta)\n",
    "\n",
    "print (\"Output after training\")\n",
    "print (layer1)\n"
   ]
  },
  {
   "cell_type": "code",
   "execution_count": 61,
   "metadata": {
    "colab": {},
    "colab_type": "code",
    "id": "JWSTWNLuNQa0"
   },
   "outputs": [
    {
     "name": "stdout",
     "output_type": "stream",
     "text": [
      "Output after testing on-->   [0 1 0]\n",
      "[0.92391539]\n"
     ]
    }
   ],
   "source": [
    "l0=numpy.array([0,1,0])\n",
    "x_test =1-nonlinear(numpy.dot(synapse0.T,l0)+b.mean())\n",
    "print (\"Output after testing on-->  \",l0)\n",
    "print (x_test)"
   ]
  },
  {
   "cell_type": "code",
   "execution_count": null,
   "metadata": {
    "colab": {},
    "colab_type": "code",
    "id": "DoaBui_JOeUw"
   },
   "outputs": [],
   "source": []
  },
  {
   "cell_type": "code",
   "execution_count": null,
   "metadata": {},
   "outputs": [],
   "source": []
  }
 ],
 "metadata": {
  "colab": {
   "name": "Back propogATION.ipynb",
   "provenance": []
  },
  "kernelspec": {
   "display_name": "Python 3",
   "language": "python",
   "name": "python3"
  },
  "language_info": {
   "codemirror_mode": {
    "name": "ipython",
    "version": 3
   },
   "file_extension": ".py",
   "mimetype": "text/x-python",
   "name": "python",
   "nbconvert_exporter": "python",
   "pygments_lexer": "ipython3",
   "version": "3.7.4"
  }
 },
 "nbformat": 4,
 "nbformat_minor": 1
}
