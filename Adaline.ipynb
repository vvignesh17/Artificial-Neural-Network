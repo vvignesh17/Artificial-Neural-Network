{
  "nbformat": 4,
  "nbformat_minor": 0,
  "metadata": {
    "colab": {
      "name": "Adaline.ipynb",
      "version": "0.3.2",
      "provenance": []
    },
    "kernelspec": {
      "name": "python3",
      "display_name": "Python 3"
    }
  },
  "cells": [
    {
      "cell_type": "code",
      "metadata": {
        "id": "AAwnTg-P__1O",
        "colab_type": "code",
        "colab": {}
      },
      "source": [
        "import numpy as np\n",
        "import matplotlib.pyplot as plt\n",
        "import math"
      ],
      "execution_count": 0,
      "outputs": []
    },
    {
      "cell_type": "code",
      "metadata": {
        "id": "Eu_pVvBdASjy",
        "colab_type": "code",
        "colab": {}
      },
      "source": [
        "LEARNING_RATE=0.5"
      ],
      "execution_count": 0,
      "outputs": []
    },
    {
      "cell_type": "code",
      "metadata": {
        "id": "h0KJEXeVApjT",
        "colab_type": "code",
        "colab": {}
      },
      "source": [
        "def step(x):\n",
        "  if(x>0):\n",
        "    return 1\n",
        "  else:\n",
        "    return -1\n",
        "  "
      ],
      "execution_count": 0,
      "outputs": []
    },
    {
      "cell_type": "code",
      "metadata": {
        "id": "vNOcHrQgA8mz",
        "colab_type": "code",
        "colab": {}
      },
      "source": [
        "INPUTS = np.array([[-1,-1,1],\n",
        "                   [-1,1,1],\n",
        "                   [1,-1,1],\n",
        "                   [1,1,1] ])\n",
        "OUTPUTS = np.array([[-1,1,1,-1]]).T\n"
      ],
      "execution_count": 0,
      "outputs": []
    },
    {
      "cell_type": "code",
      "metadata": {
        "id": "v45yQWPrBR-A",
        "colab_type": "code",
        "colab": {}
      },
      "source": [
        "np.random.seed(1)\n",
        "b=0.51\n",
        "WEIGHTS=np.random.random((3,1))*2-1\n",
        "errors=[]"
      ],
      "execution_count": 0,
      "outputs": []
    },
    {
      "cell_type": "code",
      "metadata": {
        "id": "LO9paibRBn-b",
        "colab_type": "code",
        "outputId": "e330a241-a70c-459d-e7ce-bbd91346aff0",
        "colab": {
          "base_uri": "https://localhost:8080/",
          "height": 85
        }
      },
      "source": [
        "for iter in range(3000):\n",
        "\n",
        "    for input_item,desired in zip(INPUTS,OUTPUTS):\n",
        "        \n",
        "        # Feed this input forward and calculate the ADALINE output\n",
        "        ADALINE_OUTPUT = (input_item[0]*WEIGHTS[0]) + (input_item[1]*WEIGHTS[1]) + (input_item[2]*WEIGHTS[2])+b\n",
        "\n",
        "        # Run ADALINE_OUTPUT through the step function\n",
        "        ADALINE_OUTPUT = step(ADALINE_OUTPUT)\n",
        "\n",
        "        # Calculate the ERROR generated\n",
        "        ERROR = desired - ADALINE_OUTPUT\n",
        "        \n",
        "        # Store the ERROR\n",
        "        errors.append(ERROR)\n",
        "        \n",
        "        # Update the weights based on the delta rule\n",
        "        WEIGHTS[0] = WEIGHTS[0] + LEARNING_RATE * ERROR * input_item[0]\n",
        "        WEIGHTS[1] = WEIGHTS[1] + LEARNING_RATE * ERROR * input_item[1]\n",
        "        WEIGHTS[2] = WEIGHTS[2] + LEARNING_RATE * ERROR * input_item[2]\n",
        "        b=b+LEARNING_RATE*ERROR\n",
        "print(\"New Weights after training\", WEIGHTS)\n",
        "print(\"New BIAS after training\", b)\n"
      ],
      "execution_count": 6,
      "outputs": [
        {
          "output_type": "stream",
          "text": [
            "New Weights after training [[-0.16595599]\n",
            " [-1.55935101]\n",
            " [-0.99977125]]\n",
            "New BIAS after training [0.51]\n"
          ],
          "name": "stdout"
        }
      ]
    },
    {
      "cell_type": "code",
      "metadata": {
        "id": "Fcf7jcvgDmjx",
        "colab_type": "code",
        "outputId": "f815fb1c-2131-445a-8e72-0b9b63148eec",
        "colab": {
          "base_uri": "https://localhost:8080/",
          "height": 85
        }
      },
      "source": [
        "for input_item,desired in zip(INPUTS, OUTPUTS):\n",
        "    # Feed this input forward and calculate the ADALINE output\n",
        "    ADALINE_OUTPUT = (input_item[0]*WEIGHTS[0]) + (input_item[1]*WEIGHTS[1]) + (input_item[2]*WEIGHTS[2])\n",
        "\n",
        "    # Run ADALINE_OUTPUT through the step function\n",
        "    ADALINE_OUTPUT = step(ADALINE_OUTPUT)\n",
        "\n",
        "    print(\"Actual \", ADALINE_OUTPUT, \"Desired \", desired)"
      ],
      "execution_count": 7,
      "outputs": [
        {
          "output_type": "stream",
          "text": [
            "Actual  1 Desired  [-1]\n",
            "Actual  -1 Desired  [1]\n",
            "Actual  1 Desired  [1]\n",
            "Actual  -1 Desired  [-1]\n"
          ],
          "name": "stdout"
        }
      ]
    },
    {
      "cell_type": "code",
      "metadata": {
        "id": "h-7JYZTUFRTZ",
        "colab_type": "code",
        "outputId": "850539c2-792d-4fee-ca88-582618329404",
        "colab": {
          "base_uri": "https://localhost:8080/",
          "height": 299
        }
      },
      "source": [
        "ax = plt.subplot(111)\n",
        "ax.plot(errors, c='#aaaaff', label='Training Errors')\n",
        "ax.set_xscale(\"log\")\n",
        "plt.title(\"ADALINE Errors (2,-2)\")\n",
        "plt.legend()\n",
        "plt.xlabel('Error')\n",
        "plt.ylabel('Value')\n",
        "plt.show()"
      ],
      "execution_count": 8,
      "outputs": [
        {
          "output_type": "display_data",
          "data": {
            "image/png": "[encoded data removed]",
            "text/plain": [
              "<Figure size 432x288 with 1 Axes>"
            ]
          },
          "metadata": {
            "tags": []
          }
        }
      ]
    },
    {
      "cell_type": "code",
      "metadata": {
        "id": "Gd6PVr2oFX7X",
        "colab_type": "code",
        "colab": {}
      },
      "source": [
        ""
      ],
      "execution_count": 0,
      "outputs": []
    }
  ]
}