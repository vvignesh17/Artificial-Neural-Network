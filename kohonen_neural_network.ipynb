{
  "nbformat": 4,
  "nbformat_minor": 0,
  "metadata": {
    "colab": {
      "name": "kohonen neural network.ipynb",
      "version": "0.3.2",
      "provenance": [],
      "collapsed_sections": []
    },
    "kernelspec": {
      "name": "python3",
      "display_name": "Python 3"
    }
  },
  "cells": [
    {
      "cell_type": "code",
      "metadata": {
        "id": "fM1cojqgvnzi",
        "colab_type": "code",
        "colab": {}
      },
      "source": [
        "import numpy as np\n",
        "import pandas as pd"
      ],
      "execution_count": 0,
      "outputs": []
    },
    {
      "cell_type": "code",
      "metadata": {
        "id": "SNviWvBOx-_I",
        "colab_type": "code",
        "colab": {}
      },
      "source": [
        "url = \"https://archive.ics.uci.edu/ml/machine-learning-databases/iris/iris.data\"\n",
        "names = ['sepal length', 'sepal width', 'petal length', 'petal width', 'class']\n",
        "ds = pd.read_csv(url, names=names) "
      ],
      "execution_count": 0,
      "outputs": []
    },
    {
      "cell_type": "code",
      "metadata": {
        "id": "CamHRlnt3YjA",
        "colab_type": "code",
        "colab": {}
      },
      "source": [
        "#normalization\n",
        "\n",
        "list_sl=[]\n",
        "list_sw=[]\n",
        "list_pl=[]\n",
        "list_pw=[]\n",
        "for sl in ds['sepal length']:\n",
        "    sl = (sl-min(ds['sepal length']))/(max(ds['sepal length'])-min(ds['sepal length']))\n",
        "    list_sl.append(sl)\n",
        "for sw in ds['sepal width']:\n",
        "    sw = (sw-min(ds['sepal width']))/(max(ds['sepal width'])-min(ds['sepal width']))\n",
        "    list_sw.append(sw)    \n",
        "for pl in ds['petal length']:\n",
        "    pl = (pl-min(ds['petal length']))/(max(ds['petal length'])-min(ds['petal length']))\n",
        "    list_pl.append(pl)\n",
        "for pw in ds['petal width']:\n",
        "    pw = (pw-min(ds['petal width']))/(max(ds['petal width'])-min(ds['petal width']))\n",
        "    list_pw.append(pw) \n",
        "\n",
        "X = np.array( list(zip(list_sl,list_sw, list_pl, list_pw)) )"
      ],
      "execution_count": 0,
      "outputs": []
    },
    {
      "cell_type": "code",
      "metadata": {
        "id": "U90pOhtorevt",
        "colab_type": "code",
        "colab": {}
      },
      "source": [
        "nc = 3         # number of classes\n",
        "W = []         # list for w vectors\n",
        "M = len(X)     # number of x vectors\n",
        "N = len(X[0])  # dimensionality of x vectors\n"
      ],
      "execution_count": 0,
      "outputs": []
    },
    {
      "cell_type": "code",
      "metadata": {
        "id": "CRYV27Jqrl75",
        "colab_type": "code",
        "colab": {
          "base_uri": "https://localhost:8080/",
          "height": 51
        },
        "outputId": "e265c446-ae5d-4fe7-b9df-fd2a7c74161f"
      },
      "source": [
        "print(M)\n",
        "print(N)"
      ],
      "execution_count": 34,
      "outputs": [
        {
          "output_type": "stream",
          "text": [
            "150\n",
            "4\n"
          ],
          "name": "stdout"
        }
      ]
    },
    {
      "cell_type": "code",
      "metadata": {
        "id": "v7y3wpXurpLx",
        "colab_type": "code",
        "colab": {}
      },
      "source": [
        "def get_weights():\n",
        "    y = np.random.random() * (2.0 / np.sqrt(M))\n",
        "    return 0.5 - (1 / np.sqrt(M)) + y"
      ],
      "execution_count": 0,
      "outputs": []
    },
    {
      "cell_type": "code",
      "metadata": {
        "id": "wNfHfxx6r5BQ",
        "colab_type": "code",
        "colab": {}
      },
      "source": [
        "for i in range(nc):\n",
        "    W.append(list())\n",
        "    for j in range(N):\n",
        "        W[i].append(get_weights() * 0.5)"
      ],
      "execution_count": 0,
      "outputs": []
    },
    {
      "cell_type": "code",
      "metadata": {
        "id": "3GgVz0yZr7dm",
        "colab_type": "code",
        "colab": {}
      },
      "source": [
        "def distance(w, x):\n",
        "    r = 0\n",
        "    for i in range(len(w)):\n",
        "        r = r + (w[i] - x[i])*(w[i] - x[i])\n",
        "    \n",
        "    r = np.sqrt(r)\n",
        "    return r"
      ],
      "execution_count": 0,
      "outputs": []
    },
    {
      "cell_type": "code",
      "metadata": {
        "id": "isg6PYOEr-lh",
        "colab_type": "code",
        "colab": {}
      },
      "source": [
        "def Findclosest(W, x):\n",
        "    wm = W[0]\n",
        "    r = distance(wm, x)\n",
        "    \n",
        "    i = 0\n",
        "    i_n = i\n",
        "    \n",
        "    for w in W:\n",
        "        if distance(w, x) < r:\n",
        "            r = distance(w, x)\n",
        "            wm = w\n",
        "            i_n = i\n",
        "        i = i + 1\n",
        "    \n",
        "    return (wm, i_n)"
      ],
      "execution_count": 0,
      "outputs": []
    },
    {
      "cell_type": "code",
      "metadata": {
        "id": "k4ZpoTmssPJX",
        "colab_type": "code",
        "colab": {
          "base_uri": "https://localhost:8080/",
          "height": 54
        },
        "outputId": "731a71a9-f1fd-40b7-e8bb-b33d3c79a229"
      },
      "source": [
        "print(W)"
      ],
      "execution_count": 39,
      "outputs": [
        {
          "output_type": "stream",
          "text": [
            "[[0.2539856059059763, 0.2675701381895084, 0.2583905945207087, 0.253664696545812], [0.24376644046899748, 0.2619122044496408, 0.2449040171389824, 0.2819881315638364], [0.28785790586526017, 0.24048303986431188, 0.27381924961655063, 0.25235926031844275]]\n"
          ],
          "name": "stdout"
        }
      ]
    },
    {
      "cell_type": "code",
      "metadata": {
        "id": "RvnW-hazsRiU",
        "colab_type": "code",
        "colab": {}
      },
      "source": [
        "la = 0.3    # λ coefficient\n",
        "dla = 0.05  # Δλ\n",
        "\n",
        "while la >= 0:\n",
        "    for k in range(10):\n",
        "        for x in X:\n",
        "            wm = Findclosest(W, x)[0]\n",
        "            for i in range(len(wm)):\n",
        "                wm[i] = wm[i] + la * (x[i] - wm[i]) \n",
        "\n",
        "    la = la - dla"
      ],
      "execution_count": 0,
      "outputs": []
    },
    {
      "cell_type": "code",
      "metadata": {
        "id": "-kU5VErYsfy3",
        "colab_type": "code",
        "colab": {
          "base_uri": "https://localhost:8080/",
          "height": 71
        },
        "outputId": "cb45b901-cd2a-4d15-8489-e46c924823c6"
      },
      "source": [
        "Data = list() \n",
        "\n",
        "for i in range(len(W)):\n",
        "    Data.append(list())\n",
        "\n",
        "dfList = ds['class'].as_matrix()"
      ],
      "execution_count": 41,
      "outputs": [
        {
          "output_type": "stream",
          "text": [
            "/usr/local/lib/python3.6/dist-packages/ipykernel_launcher.py:6: FutureWarning: Method .as_matrix will be removed in a future version. Use .values instead.\n",
            "  \n"
          ],
          "name": "stderr"
        }
      ]
    },
    {
      "cell_type": "code",
      "metadata": {
        "id": "3cUrHS74sjve",
        "colab_type": "code",
        "colab": {
          "base_uri": "https://localhost:8080/",
          "height": 54
        },
        "outputId": "56bb4b41-f89b-4543-eec4-0093705c864c"
      },
      "source": [
        "DS = list()\n",
        "i = 0\n",
        "for x in X:\n",
        "    i_n = Findclosest(W, x)[1]\n",
        "    Data[i_n].append(x)\n",
        "    DS.append([i_n, dfList[i]])\n",
        "    i = i + 1\n",
        "\n",
        "print (DS)"
      ],
      "execution_count": 42,
      "outputs": [
        {
          "output_type": "stream",
          "text": [
            "[[0, 'Iris-setosa'], [0, 'Iris-setosa'], [0, 'Iris-setosa'], [0, 'Iris-setosa'], [0, 'Iris-setosa'], [0, 'Iris-setosa'], [0, 'Iris-setosa'], [0, 'Iris-setosa'], [0, 'Iris-setosa'], [0, 'Iris-setosa'], [0, 'Iris-setosa'], [0, 'Iris-setosa'], [0, 'Iris-setosa'], [0, 'Iris-setosa'], [0, 'Iris-setosa'], [0, 'Iris-setosa'], [0, 'Iris-setosa'], [0, 'Iris-setosa'], [0, 'Iris-setosa'], [0, 'Iris-setosa'], [0, 'Iris-setosa'], [0, 'Iris-setosa'], [0, 'Iris-setosa'], [0, 'Iris-setosa'], [0, 'Iris-setosa'], [0, 'Iris-setosa'], [0, 'Iris-setosa'], [0, 'Iris-setosa'], [0, 'Iris-setosa'], [0, 'Iris-setosa'], [0, 'Iris-setosa'], [0, 'Iris-setosa'], [0, 'Iris-setosa'], [0, 'Iris-setosa'], [0, 'Iris-setosa'], [0, 'Iris-setosa'], [0, 'Iris-setosa'], [0, 'Iris-setosa'], [0, 'Iris-setosa'], [0, 'Iris-setosa'], [0, 'Iris-setosa'], [0, 'Iris-setosa'], [0, 'Iris-setosa'], [0, 'Iris-setosa'], [0, 'Iris-setosa'], [0, 'Iris-setosa'], [0, 'Iris-setosa'], [0, 'Iris-setosa'], [0, 'Iris-setosa'], [0, 'Iris-setosa'], [2, 'Iris-versicolor'], [1, 'Iris-versicolor'], [2, 'Iris-versicolor'], [1, 'Iris-versicolor'], [1, 'Iris-versicolor'], [1, 'Iris-versicolor'], [1, 'Iris-versicolor'], [1, 'Iris-versicolor'], [1, 'Iris-versicolor'], [1, 'Iris-versicolor'], [1, 'Iris-versicolor'], [1, 'Iris-versicolor'], [1, 'Iris-versicolor'], [1, 'Iris-versicolor'], [1, 'Iris-versicolor'], [1, 'Iris-versicolor'], [1, 'Iris-versicolor'], [1, 'Iris-versicolor'], [1, 'Iris-versicolor'], [1, 'Iris-versicolor'], [1, 'Iris-versicolor'], [1, 'Iris-versicolor'], [1, 'Iris-versicolor'], [1, 'Iris-versicolor'], [1, 'Iris-versicolor'], [1, 'Iris-versicolor'], [1, 'Iris-versicolor'], [2, 'Iris-versicolor'], [1, 'Iris-versicolor'], [1, 'Iris-versicolor'], [1, 'Iris-versicolor'], [1, 'Iris-versicolor'], [1, 'Iris-versicolor'], [1, 'Iris-versicolor'], [1, 'Iris-versicolor'], [1, 'Iris-versicolor'], [1, 'Iris-versicolor'], [1, 'Iris-versicolor'], [1, 'Iris-versicolor'], [1, 'Iris-versicolor'], [1, 'Iris-versicolor'], [1, 'Iris-versicolor'], [1, 'Iris-versicolor'], [1, 'Iris-versicolor'], [1, 'Iris-versicolor'], [1, 'Iris-versicolor'], [1, 'Iris-versicolor'], [1, 'Iris-versicolor'], [1, 'Iris-versicolor'], [1, 'Iris-versicolor'], [2, 'Iris-virginica'], [1, 'Iris-virginica'], [2, 'Iris-virginica'], [2, 'Iris-virginica'], [2, 'Iris-virginica'], [2, 'Iris-virginica'], [1, 'Iris-virginica'], [2, 'Iris-virginica'], [2, 'Iris-virginica'], [2, 'Iris-virginica'], [2, 'Iris-virginica'], [1, 'Iris-virginica'], [2, 'Iris-virginica'], [1, 'Iris-virginica'], [2, 'Iris-virginica'], [2, 'Iris-virginica'], [2, 'Iris-virginica'], [2, 'Iris-virginica'], [2, 'Iris-virginica'], [1, 'Iris-virginica'], [2, 'Iris-virginica'], [1, 'Iris-virginica'], [2, 'Iris-virginica'], [1, 'Iris-virginica'], [2, 'Iris-virginica'], [2, 'Iris-virginica'], [1, 'Iris-virginica'], [1, 'Iris-virginica'], [2, 'Iris-virginica'], [2, 'Iris-virginica'], [2, 'Iris-virginica'], [2, 'Iris-virginica'], [2, 'Iris-virginica'], [1, 'Iris-virginica'], [1, 'Iris-virginica'], [2, 'Iris-virginica'], [2, 'Iris-virginica'], [2, 'Iris-virginica'], [1, 'Iris-virginica'], [2, 'Iris-virginica'], [2, 'Iris-virginica'], [2, 'Iris-virginica'], [1, 'Iris-virginica'], [2, 'Iris-virginica'], [2, 'Iris-virginica'], [2, 'Iris-virginica'], [1, 'Iris-virginica'], [2, 'Iris-virginica'], [2, 'Iris-virginica'], [1, 'Iris-virginica']]\n"
          ],
          "name": "stdout"
        }
      ]
    },
    {
      "cell_type": "code",
      "metadata": {
        "id": "fW6C5DLKst1g",
        "colab_type": "code",
        "colab": {}
      },
      "source": [
        ""
      ],
      "execution_count": 0,
      "outputs": []
    }
  ]
}