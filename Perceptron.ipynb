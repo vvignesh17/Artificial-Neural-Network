{
  "nbformat": 4,
  "nbformat_minor": 0,
  "metadata": {
    "colab": {
      "name": "Perceptron.ipynb",
      "provenance": []
    },
    "kernelspec": {
      "name": "python3",
      "display_name": "Python 3"
    }
  },
  "cells": [
    {
      "cell_type": "code",
      "metadata": {
        "id": "-l6bi2UM8Zef",
        "colab_type": "code",
        "colab": {}
      },
      "source": [
        "import numpy as np\n",
        "import pandas as pd"
      ],
      "execution_count": 0,
      "outputs": []
    },
    {
      "cell_type": "code",
      "metadata": {
        "id": "cGwmwW-F8dJa",
        "colab_type": "code",
        "colab": {
          "base_uri": "https://localhost:8080/",
          "height": 85
        },
        "outputId": "63006835-c417-444d-b53f-e7a92ff8fcab"
      },
      "source": [
        "X=np.array([[-1,-1],[-1,1],[1,-1],[1,1]])\n",
        "X"
      ],
      "execution_count": 126,
      "outputs": [
        {
          "output_type": "execute_result",
          "data": {
            "text/plain": [
              "array([[-1, -1],\n",
              "       [-1,  1],\n",
              "       [ 1, -1],\n",
              "       [ 1,  1]])"
            ]
          },
          "metadata": {
            "tags": []
          },
          "execution_count": 126
        }
      ]
    },
    {
      "cell_type": "code",
      "metadata": {
        "id": "4YWBaBOR9HJL",
        "colab_type": "code",
        "colab": {
          "base_uri": "https://localhost:8080/",
          "height": 34
        },
        "outputId": "74cc5b3c-cea3-41ae-f57a-0d23334fe4c3"
      },
      "source": [
        "O=np.array([-1,-1,-1,1])\n",
        "O=np.transpose(O)\n",
        "O\n"
      ],
      "execution_count": 127,
      "outputs": [
        {
          "output_type": "execute_result",
          "data": {
            "text/plain": [
              "array([-1, -1, -1,  1])"
            ]
          },
          "metadata": {
            "tags": []
          },
          "execution_count": 127
        }
      ]
    },
    {
      "cell_type": "code",
      "metadata": {
        "id": "IF4HGGkR9kVm",
        "colab_type": "code",
        "colab": {
          "base_uri": "https://localhost:8080/",
          "height": 34
        },
        "outputId": "896f50a7-b6e0-4b3b-ea19-506e067fcc33"
      },
      "source": [
        "# W=np.random.random([X.shape[1]])\n",
        "# b=np.random.random(1)\n",
        "W=np.array([1,0])\n",
        "b=0\n",
        "print(W,b)"
      ],
      "execution_count": 128,
      "outputs": [
        {
          "output_type": "stream",
          "text": [
            "[1 0] 0\n"
          ],
          "name": "stdout"
        }
      ]
    },
    {
      "cell_type": "code",
      "metadata": {
        "id": "tC83SAmx-Muq",
        "colab_type": "code",
        "colab": {
          "base_uri": "https://localhost:8080/",
          "height": 34
        },
        "outputId": "7e03d424-87cd-4f74-b6e4-234eef92720c"
      },
      "source": [
        "sum=np.zeros(O.shape)\n",
        "sum"
      ],
      "execution_count": 129,
      "outputs": [
        {
          "output_type": "execute_result",
          "data": {
            "text/plain": [
              "array([0., 0., 0., 0.])"
            ]
          },
          "metadata": {
            "tags": []
          },
          "execution_count": 129
        }
      ]
    },
    {
      "cell_type": "code",
      "metadata": {
        "id": "keZuEgVe_NaZ",
        "colab_type": "code",
        "colab": {}
      },
      "source": [
        "def step(sum):\n",
        "    if (sum>0.5):\n",
        "        return 1\n",
        "    elif(sum<-0.5):\n",
        "        return -1\n",
        "    else:\n",
        "        return 0"
      ],
      "execution_count": 0,
      "outputs": []
    },
    {
      "cell_type": "code",
      "metadata": {
        "id": "XR83vp5Y_vlt",
        "colab_type": "code",
        "colab": {}
      },
      "source": [
        "n_epoch=5\n",
        "learning_rate=1"
      ],
      "execution_count": 0,
      "outputs": []
    },
    {
      "cell_type": "code",
      "metadata": {
        "id": "re4I2kyo9Ptl",
        "colab_type": "code",
        "colab": {
          "base_uri": "https://localhost:8080/",
          "height": 1000
        },
        "outputId": "75a1f0b9-ca0d-4e3e-cb80-0d9f7d64ba99"
      },
      "source": [
        "for k in range (n_epoch):\n",
        "    c=0\n",
        "    for i in range(4):\n",
        "        sum[i] = step(X[i][0]*W[0] + X[i][1]*W[1] +b)\n",
        "        print(sum[i])\n",
        "        print(X[i])\n",
        "        print(O[i])\n",
        "        if(sum[i]!=O[i]):\n",
        "            print(\"HI\")\n",
        "            W[0]=W[0]+learning_rate*O[i]*X[i][0]\n",
        "            W[1]=W[1]+learning_rate*O[i]*X[i][1]\n",
        "            b=b+learning_rate*O[i]\n",
        "        print(b)"
      ],
      "execution_count": 132,
      "outputs": [
        {
          "output_type": "stream",
          "text": [
            "-1.0\n",
            "[-1 -1]\n",
            "-1\n",
            "0\n",
            "-1.0\n",
            "[-1  1]\n",
            "-1\n",
            "0\n",
            "1.0\n",
            "[ 1 -1]\n",
            "-1\n",
            "HI\n",
            "-1\n",
            "0.0\n",
            "[1 1]\n",
            "1\n",
            "HI\n",
            "0\n",
            "-1.0\n",
            "[-1 -1]\n",
            "-1\n",
            "0\n",
            "1.0\n",
            "[-1  1]\n",
            "-1\n",
            "HI\n",
            "-1\n",
            "0.0\n",
            "[ 1 -1]\n",
            "-1\n",
            "HI\n",
            "-2\n",
            "1.0\n",
            "[1 1]\n",
            "1\n",
            "-2\n",
            "-1.0\n",
            "[-1 -1]\n",
            "-1\n",
            "-2\n",
            "-1.0\n",
            "[-1  1]\n",
            "-1\n",
            "-2\n",
            "-1.0\n",
            "[ 1 -1]\n",
            "-1\n",
            "-2\n",
            "1.0\n",
            "[1 1]\n",
            "1\n",
            "-2\n",
            "-1.0\n",
            "[-1 -1]\n",
            "-1\n",
            "-2\n",
            "-1.0\n",
            "[-1  1]\n",
            "-1\n",
            "-2\n",
            "-1.0\n",
            "[ 1 -1]\n",
            "-1\n",
            "-2\n",
            "1.0\n",
            "[1 1]\n",
            "1\n",
            "-2\n",
            "-1.0\n",
            "[-1 -1]\n",
            "-1\n",
            "-2\n",
            "-1.0\n",
            "[-1  1]\n",
            "-1\n",
            "-2\n",
            "-1.0\n",
            "[ 1 -1]\n",
            "-1\n",
            "-2\n",
            "1.0\n",
            "[1 1]\n",
            "1\n",
            "-2\n"
          ],
          "name": "stdout"
        }
      ]
    },
    {
      "cell_type": "code",
      "metadata": {
        "id": "9w3KpcNj-q2b",
        "colab_type": "code",
        "colab": {
          "base_uri": "https://localhost:8080/",
          "height": 34
        },
        "outputId": "92a856da-ea4e-4b11-bf4f-37d93f7dff10"
      },
      "source": [
        "W"
      ],
      "execution_count": 133,
      "outputs": [
        {
          "output_type": "execute_result",
          "data": {
            "text/plain": [
              "array([1, 2])"
            ]
          },
          "metadata": {
            "tags": []
          },
          "execution_count": 133
        }
      ]
    },
    {
      "cell_type": "code",
      "metadata": {
        "id": "cQbNgan7DvQe",
        "colab_type": "code",
        "colab": {
          "base_uri": "https://localhost:8080/",
          "height": 34
        },
        "outputId": "ae455727-330b-46e5-a7fa-1618215d7889"
      },
      "source": [
        "b"
      ],
      "execution_count": 134,
      "outputs": [
        {
          "output_type": "execute_result",
          "data": {
            "text/plain": [
              "-2"
            ]
          },
          "metadata": {
            "tags": []
          },
          "execution_count": 134
        }
      ]
    },
    {
      "cell_type": "code",
      "metadata": {
        "id": "xu6GfnW3G9KJ",
        "colab_type": "code",
        "colab": {}
      },
      "source": [
        ""
      ],
      "execution_count": 0,
      "outputs": []
    }
  ]
}