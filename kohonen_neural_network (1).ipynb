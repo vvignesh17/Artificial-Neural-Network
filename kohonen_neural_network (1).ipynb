{
 "cells": [
  {
   "cell_type": "code",
   "execution_count": 17,
   "metadata": {
    "colab": {},
    "colab_type": "code",
    "id": "fM1cojqgvnzi"
   },
   "outputs": [],
   "source": [
    "import numpy as np\n",
    "import pandas as pd"
   ]
  },
  {
   "cell_type": "code",
   "execution_count": 26,
   "metadata": {
    "colab": {},
    "colab_type": "code",
    "id": "SNviWvBOx-_I"
   },
   "outputs": [
    {
     "data": {
      "text/html": [
       "<div>\n",
       "<style scoped>\n",
       "    .dataframe tbody tr th:only-of-type {\n",
       "        vertical-align: middle;\n",
       "    }\n",
       "\n",
       "    .dataframe tbody tr th {\n",
       "        vertical-align: top;\n",
       "    }\n",
       "\n",
       "    .dataframe thead th {\n",
       "        text-align: right;\n",
       "    }\n",
       "</style>\n",
       "<table border=\"1\" class=\"dataframe\">\n",
       "  <thead>\n",
       "    <tr style=\"text-align: right;\">\n",
       "      <th></th>\n",
       "      <th>sepal.length</th>\n",
       "      <th>sepal.width</th>\n",
       "      <th>petal.length</th>\n",
       "      <th>petal.width</th>\n",
       "      <th>variety</th>\n",
       "    </tr>\n",
       "  </thead>\n",
       "  <tbody>\n",
       "    <tr>\n",
       "      <td>0</td>\n",
       "      <td>5.1</td>\n",
       "      <td>3.5</td>\n",
       "      <td>1.4</td>\n",
       "      <td>0.2</td>\n",
       "      <td>Setosa</td>\n",
       "    </tr>\n",
       "    <tr>\n",
       "      <td>1</td>\n",
       "      <td>4.9</td>\n",
       "      <td>3.0</td>\n",
       "      <td>1.4</td>\n",
       "      <td>0.2</td>\n",
       "      <td>Setosa</td>\n",
       "    </tr>\n",
       "    <tr>\n",
       "      <td>2</td>\n",
       "      <td>4.7</td>\n",
       "      <td>3.2</td>\n",
       "      <td>1.3</td>\n",
       "      <td>0.2</td>\n",
       "      <td>Setosa</td>\n",
       "    </tr>\n",
       "    <tr>\n",
       "      <td>3</td>\n",
       "      <td>4.6</td>\n",
       "      <td>3.1</td>\n",
       "      <td>1.5</td>\n",
       "      <td>0.2</td>\n",
       "      <td>Setosa</td>\n",
       "    </tr>\n",
       "    <tr>\n",
       "      <td>4</td>\n",
       "      <td>5.0</td>\n",
       "      <td>3.6</td>\n",
       "      <td>1.4</td>\n",
       "      <td>0.2</td>\n",
       "      <td>Setosa</td>\n",
       "    </tr>\n",
       "  </tbody>\n",
       "</table>\n",
       "</div>"
      ],
      "text/plain": [
       "   sepal.length  sepal.width  petal.length  petal.width variety\n",
       "0           5.1          3.5           1.4          0.2  Setosa\n",
       "1           4.9          3.0           1.4          0.2  Setosa\n",
       "2           4.7          3.2           1.3          0.2  Setosa\n",
       "3           4.6          3.1           1.5          0.2  Setosa\n",
       "4           5.0          3.6           1.4          0.2  Setosa"
      ]
     },
     "execution_count": 26,
     "metadata": {},
     "output_type": "execute_result"
    }
   ],
   "source": [
    "ds = pd.read_csv(\"iris.csv\") \n",
    "ds[0:5]"
   ]
  },
  {
   "cell_type": "code",
   "execution_count": 28,
   "metadata": {
    "colab": {},
    "colab_type": "code",
    "id": "CamHRlnt3YjA"
   },
   "outputs": [],
   "source": [
    "#normalization\n",
    "\n",
    "list_sl=[]\n",
    "list_sw=[]\n",
    "list_pl=[]\n",
    "list_pw=[]\n",
    "for sl in ds['sepal.length']:\n",
    "    sl = (sl-min(ds['sepal.length']))/(max(ds['sepal.length'])-min(ds['sepal.length']))\n",
    "    list_sl.append(sl)\n",
    "for sw in ds['sepal.width']:\n",
    "    sw = (sw-min(ds['sepal.width']))/(max(ds['sepal.width'])-min(ds['sepal.width']))\n",
    "    list_sw.append(sw)    \n",
    "for pl in ds['petal.length']:\n",
    "    pl = (pl-min(ds['petal.length']))/(max(ds['petal.length'])-min(ds['petal.length']))\n",
    "    list_pl.append(pl)\n",
    "for pw in ds['petal.width']:\n",
    "    pw = (pw-min(ds['petal.width']))/(max(ds['petal.width'])-min(ds['petal.width']))\n",
    "    list_pw.append(pw) \n",
    "\n",
    "X = np.array( list(zip(list_sl,list_sw, list_pl, list_pw)) )"
   ]
  },
  {
   "cell_type": "code",
   "execution_count": 29,
   "metadata": {
    "colab": {},
    "colab_type": "code",
    "id": "U90pOhtorevt"
   },
   "outputs": [],
   "source": [
    "nc = 3         # number of classes\n",
    "W = []         # list for w vectors\n",
    "M = len(X)     # number of x vectors\n",
    "N = len(X[0])  # dimensionality of x vectors\n"
   ]
  },
  {
   "cell_type": "code",
   "execution_count": 30,
   "metadata": {
    "colab": {
     "base_uri": "https://localhost:8080/",
     "height": 51
    },
    "colab_type": "code",
    "id": "CRYV27Jqrl75",
    "outputId": "fb61f03f-a6d9-4787-dd93-435f75e340cd"
   },
   "outputs": [
    {
     "name": "stdout",
     "output_type": "stream",
     "text": [
      "150\n",
      "4\n"
     ]
    }
   ],
   "source": [
    "print(M)\n",
    "print(N)"
   ]
  },
  {
   "cell_type": "code",
   "execution_count": 31,
   "metadata": {
    "colab": {},
    "colab_type": "code",
    "id": "v7y3wpXurpLx"
   },
   "outputs": [],
   "source": [
    "def get_weights():\n",
    "    y = np.random.random() * (2.0 / np.sqrt(M))\n",
    "    return 0.5 - (1 / np.sqrt(M)) + y"
   ]
  },
  {
   "cell_type": "code",
   "execution_count": 32,
   "metadata": {
    "colab": {},
    "colab_type": "code",
    "id": "wNfHfxx6r5BQ"
   },
   "outputs": [],
   "source": [
    "for i in range(nc):\n",
    "    W.append(list())\n",
    "    for j in range(N):\n",
    "        W[i].append(get_weights() * 0.5)"
   ]
  },
  {
   "cell_type": "code",
   "execution_count": 33,
   "metadata": {
    "colab": {},
    "colab_type": "code",
    "id": "3GgVz0yZr7dm"
   },
   "outputs": [],
   "source": [
    "def distance(w, x):\n",
    "    r = 0\n",
    "    for i in range(len(w)):\n",
    "        r = r + (w[i] - x[i])*(w[i] - x[i])\n",
    "    \n",
    "    r = np.sqrt(r)\n",
    "    return r"
   ]
  },
  {
   "cell_type": "code",
   "execution_count": 34,
   "metadata": {
    "colab": {},
    "colab_type": "code",
    "id": "isg6PYOEr-lh"
   },
   "outputs": [],
   "source": [
    "def Findclosest(W, x):\n",
    "    wm = W[0]\n",
    "    r = distance(wm, x)\n",
    "    \n",
    "    i = 0\n",
    "    i_n = i\n",
    "    \n",
    "    for w in W:\n",
    "        if distance(w, x) < r:\n",
    "            r = distance(w, x)\n",
    "            wm = w\n",
    "            i_n = i\n",
    "        i = i + 1\n",
    "    \n",
    "    return (wm, i_n)"
   ]
  },
  {
   "cell_type": "code",
   "execution_count": 35,
   "metadata": {
    "colab": {
     "base_uri": "https://localhost:8080/",
     "height": 54
    },
    "colab_type": "code",
    "id": "k4ZpoTmssPJX",
    "outputId": "e3dcb942-2ee7-4d9d-d6ca-61d41855ad6d"
   },
   "outputs": [
    {
     "name": "stdout",
     "output_type": "stream",
     "text": [
      "[[0.2886146099476532, 0.21107516697068104, 0.27233214725463223, 0.2614868244481918], [0.23757181143421657, 0.26371807989289203, 0.28332712967532603, 0.22977859596998212], [0.21934449230817182, 0.25445661981964424, 0.24898491221749988, 0.2853801331988042]]\n"
     ]
    }
   ],
   "source": [
    "print(W)"
   ]
  },
  {
   "cell_type": "code",
   "execution_count": 36,
   "metadata": {
    "colab": {},
    "colab_type": "code",
    "id": "RvnW-hazsRiU"
   },
   "outputs": [],
   "source": [
    "la = 0.3    # λ coefficient\n",
    "dla = 0.05  # Δλ\n",
    "\n",
    "while la >= 0:\n",
    "    for k in range(10):\n",
    "        for x in X:\n",
    "            wm = Findclosest(W, x)[0]\n",
    "            for i in range(len(wm)):\n",
    "                wm[i] = wm[i] + la * (x[i] - wm[i]) \n",
    "\n",
    "    la = la - dla"
   ]
  },
  {
   "cell_type": "code",
   "execution_count": 38,
   "metadata": {
    "colab": {
     "base_uri": "https://localhost:8080/",
     "height": 71
    },
    "colab_type": "code",
    "id": "-kU5VErYsfy3",
    "outputId": "a69a8d0a-85ef-4310-8c67-f5288d895693"
   },
   "outputs": [
    {
     "name": "stderr",
     "output_type": "stream",
     "text": [
      "C:\\Users\\Acer\\Anaconda3\\lib\\site-packages\\ipykernel_launcher.py:6: FutureWarning: Method .as_matrix will be removed in a future version. Use .values instead.\n",
      "  \n"
     ]
    }
   ],
   "source": [
    "Data = list() \n",
    "\n",
    "for i in range(len(W)):\n",
    "    Data.append(list())\n",
    "\n",
    "dfList = ds['variety'].as_matrix()"
   ]
  },
  {
   "cell_type": "code",
   "execution_count": 43,
   "metadata": {
    "colab": {
     "base_uri": "https://localhost:8080/",
     "height": 54
    },
    "colab_type": "code",
    "id": "3cUrHS74sjve",
    "outputId": "66b0858e-91a7-43bd-f821-4043031e872f"
   },
   "outputs": [
    {
     "name": "stdout",
     "output_type": "stream",
     "text": [
      "[1, 'Setosa']\n",
      "[1, 'Setosa']\n",
      "[1, 'Setosa']\n",
      "[1, 'Setosa']\n",
      "[1, 'Setosa']\n",
      "[1, 'Setosa']\n",
      "[1, 'Setosa']\n",
      "[1, 'Setosa']\n",
      "[1, 'Setosa']\n",
      "[1, 'Setosa']\n",
      "[1, 'Setosa']\n",
      "[1, 'Setosa']\n",
      "[1, 'Setosa']\n",
      "[1, 'Setosa']\n",
      "[1, 'Setosa']\n",
      "[1, 'Setosa']\n",
      "[1, 'Setosa']\n",
      "[1, 'Setosa']\n",
      "[1, 'Setosa']\n",
      "[1, 'Setosa']\n",
      "[1, 'Setosa']\n",
      "[1, 'Setosa']\n",
      "[1, 'Setosa']\n",
      "[1, 'Setosa']\n",
      "[1, 'Setosa']\n",
      "[1, 'Setosa']\n",
      "[1, 'Setosa']\n",
      "[1, 'Setosa']\n",
      "[1, 'Setosa']\n",
      "[1, 'Setosa']\n",
      "[1, 'Setosa']\n",
      "[1, 'Setosa']\n",
      "[1, 'Setosa']\n",
      "[1, 'Setosa']\n",
      "[1, 'Setosa']\n",
      "[1, 'Setosa']\n",
      "[1, 'Setosa']\n",
      "[1, 'Setosa']\n",
      "[1, 'Setosa']\n",
      "[1, 'Setosa']\n",
      "[1, 'Setosa']\n",
      "[1, 'Setosa']\n",
      "[1, 'Setosa']\n",
      "[1, 'Setosa']\n",
      "[1, 'Setosa']\n",
      "[1, 'Setosa']\n",
      "[1, 'Setosa']\n",
      "[1, 'Setosa']\n",
      "[1, 'Setosa']\n",
      "[1, 'Setosa']\n",
      "[0, 'Versicolor']\n",
      "[2, 'Versicolor']\n",
      "[0, 'Versicolor']\n",
      "[2, 'Versicolor']\n",
      "[2, 'Versicolor']\n",
      "[2, 'Versicolor']\n",
      "[2, 'Versicolor']\n",
      "[2, 'Versicolor']\n",
      "[2, 'Versicolor']\n",
      "[2, 'Versicolor']\n",
      "[2, 'Versicolor']\n",
      "[2, 'Versicolor']\n",
      "[2, 'Versicolor']\n",
      "[2, 'Versicolor']\n",
      "[2, 'Versicolor']\n",
      "[2, 'Versicolor']\n",
      "[2, 'Versicolor']\n",
      "[2, 'Versicolor']\n",
      "[2, 'Versicolor']\n",
      "[2, 'Versicolor']\n",
      "[2, 'Versicolor']\n",
      "[2, 'Versicolor']\n",
      "[2, 'Versicolor']\n",
      "[2, 'Versicolor']\n",
      "[2, 'Versicolor']\n",
      "[2, 'Versicolor']\n",
      "[2, 'Versicolor']\n",
      "[0, 'Versicolor']\n",
      "[2, 'Versicolor']\n",
      "[2, 'Versicolor']\n",
      "[2, 'Versicolor']\n",
      "[2, 'Versicolor']\n",
      "[2, 'Versicolor']\n",
      "[2, 'Versicolor']\n",
      "[2, 'Versicolor']\n",
      "[2, 'Versicolor']\n",
      "[2, 'Versicolor']\n",
      "[2, 'Versicolor']\n",
      "[2, 'Versicolor']\n",
      "[2, 'Versicolor']\n",
      "[2, 'Versicolor']\n",
      "[2, 'Versicolor']\n",
      "[2, 'Versicolor']\n",
      "[2, 'Versicolor']\n",
      "[2, 'Versicolor']\n",
      "[2, 'Versicolor']\n",
      "[2, 'Versicolor']\n",
      "[2, 'Versicolor']\n",
      "[2, 'Versicolor']\n",
      "[2, 'Versicolor']\n",
      "[0, 'Virginica']\n",
      "[2, 'Virginica']\n",
      "[0, 'Virginica']\n",
      "[0, 'Virginica']\n",
      "[0, 'Virginica']\n",
      "[0, 'Virginica']\n",
      "[2, 'Virginica']\n",
      "[0, 'Virginica']\n",
      "[0, 'Virginica']\n",
      "[0, 'Virginica']\n",
      "[0, 'Virginica']\n",
      "[2, 'Virginica']\n",
      "[0, 'Virginica']\n",
      "[2, 'Virginica']\n",
      "[0, 'Virginica']\n",
      "[0, 'Virginica']\n",
      "[0, 'Virginica']\n",
      "[0, 'Virginica']\n",
      "[0, 'Virginica']\n",
      "[2, 'Virginica']\n",
      "[0, 'Virginica']\n",
      "[2, 'Virginica']\n",
      "[0, 'Virginica']\n",
      "[2, 'Virginica']\n",
      "[0, 'Virginica']\n",
      "[0, 'Virginica']\n",
      "[2, 'Virginica']\n",
      "[2, 'Virginica']\n",
      "[0, 'Virginica']\n",
      "[0, 'Virginica']\n",
      "[0, 'Virginica']\n",
      "[0, 'Virginica']\n",
      "[0, 'Virginica']\n",
      "[2, 'Virginica']\n",
      "[2, 'Virginica']\n",
      "[0, 'Virginica']\n",
      "[0, 'Virginica']\n",
      "[0, 'Virginica']\n",
      "[2, 'Virginica']\n",
      "[0, 'Virginica']\n",
      "[0, 'Virginica']\n",
      "[0, 'Virginica']\n",
      "[2, 'Virginica']\n",
      "[0, 'Virginica']\n",
      "[0, 'Virginica']\n",
      "[0, 'Virginica']\n",
      "[2, 'Virginica']\n",
      "[0, 'Virginica']\n",
      "[0, 'Virginica']\n",
      "[2, 'Virginica']\n"
     ]
    }
   ],
   "source": [
    "DS = list()\n",
    "i = 0\n",
    "for x in X:\n",
    "    i_n = Findclosest(W, x)[1]\n",
    "    Data[i_n].append(x)\n",
    "    DS.append([i_n, dfList[i]])\n",
    "    i = i + 1\n",
    "\n",
    "# print (\"\\n\\t\",DS)\n",
    "print(*DS, sep = \"\\n\")"
   ]
  },
  {
   "cell_type": "code",
   "execution_count": null,
   "metadata": {
    "colab": {},
    "colab_type": "code",
    "id": "fW6C5DLKst1g"
   },
   "outputs": [],
   "source": []
  },
  {
   "cell_type": "code",
   "execution_count": null,
   "metadata": {},
   "outputs": [],
   "source": []
  }
 ],
 "metadata": {
  "colab": {
   "collapsed_sections": [],
   "name": "kohonen neural network.ipynb",
   "provenance": []
  },
  "kernelspec": {
   "display_name": "Python 3",
   "language": "python",
   "name": "python3"
  },
  "language_info": {
   "codemirror_mode": {
    "name": "ipython",
    "version": 3
   },
   "file_extension": ".py",
   "mimetype": "text/x-python",
   "name": "python",
   "nbconvert_exporter": "python",
   "pygments_lexer": "ipython3",
   "version": "3.7.4"
  }
 },
 "nbformat": 4,
 "nbformat_minor": 1
}
